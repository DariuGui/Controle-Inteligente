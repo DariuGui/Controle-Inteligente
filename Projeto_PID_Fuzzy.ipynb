{
  "nbformat": 4,
  "nbformat_minor": 0,
  "metadata": {
    "colab": {
      "provenance": [],
      "collapsed_sections": []
    },
    "kernelspec": {
      "name": "python3",
      "display_name": "Python 3"
    },
    "language_info": {
      "name": "python"
    }
  },
  "cells": [
    {
      "cell_type": "markdown",
      "source": [
        "##Projeto de um controlador Fuzzy PID##\n",
        "\n",
        "Projete um controlador PID Fuzzy para a seguinte planta:\n",
        "\n",
        "\\begin{equation}\n",
        "  \\frac{dy}{dt} = \\frac{1}{\\tau_p}\\left [ k_p u(t) - y(t)  \\right ]\n",
        "\\end{equation}\n",
        "\n",
        "com $\\tau_p $ sendo o último dígito da matrícula do aluno A (por exemplo) e $k_p$ os dois últimos dígitos da matrícula do aluno B (se algum for nulo, considere a unidade). \n",
        "\n",
        "Considere o período de amostragem como sendo $0,000u_1$, sendo $u_1$ o último dígito da matrícula do aluno A ou B (se for nulo, considere a unidade).\n",
        "\n",
        "Com as seguintes regras de inferências:\n",
        "\n",
        "* R1: Se (erro = EP e d_erro = DEP) então ($k_c$ = PP,  $\\tau_i$ = IP, $\\tau_d$ = DP)\n",
        "\n",
        "* R2: Se (erro = EP e d_erro = DEM) então ($k_c$ = PP,  $\\tau_i$ = IP, $\\tau_d$ = DP)\n",
        "\n",
        "* R3: Se (erro = EP e d_erro = DEG) então ($k_c$ = PP,  $\\tau_i$ = IP, $\\tau_d$ = DP)\n",
        "\n",
        "* R4: Se (erro = EM e d_erro = DEP) então ($k_c$ = PM,  $\\tau_i$ = IM, $\\tau_d$ = DM)\n",
        "\n",
        "* R5: Se (erro = EM e d_erro = DEM) então ($k_c$ = PM,  $\\tau_i$ = IM, $\\tau_d$ = DM)\n",
        "\n",
        "* R6: Se (erro = EM e d_erro = DEG) então ($k_c$ = PM,  $\\tau_i$ = IM, $\\tau_d$ = DM)\n",
        "\n",
        "* R7: Se (erro = EG e d_erro = DEP) então ($k_c$ = PG,  $\\tau_i$ = IG, $\\tau_d$ = DG)\n",
        "\n",
        "* R8: Se (erro = EG e d_erro = DEM) então ($k_c$ = PG,  $\\tau_i$ = IG, $\\tau_d$ = DG)\n",
        "\n",
        "* R9: Se (erro = EG e d_erro = DEG) então ($k_c$ = PG,  $\\tau_i$ = IG, $\\tau_d$ = DG)"
      ],
      "metadata": {
        "id": "yRMiMMRM9FMw"
      }
    },
    {
      "cell_type": "code",
      "execution_count": null,
      "metadata": {
        "id": "x-rgsc449EV6"
      },
      "outputs": [],
      "source": [
        "import numpy as np\n",
        "import matplotlib.pyplot as plt\n",
        "from scipy.integrate import odeint"
      ]
    },
    {
      "cell_type": "code",
      "source": [
        "# Modelo da planta a ser controlada\n",
        "n = 100 # número de pontos a serem simulados\n",
        "tf = 50.0 # tempo final\n",
        "SP_start = 1.0 # quando inicia o set point\n",
        "def planta(y,t,u):\n",
        "    Kp = 4.0      # penúltimo dígito da matrícula do aluno A ou B (se for nulo considere a unidade)\n",
        "    tau_p = 3.0   # último dígito da matrícula do aluno A ou B (se for nulo considere a unidade)\n",
        "    theta_p = 1.0  \n",
        "    if t < (theta_p + SP_start):\n",
        "       dydt = 0.0 # atraso \n",
        "    else:\n",
        "       dydt = (1.0/tau_p) * ((Kp*u) - y)\n",
        "    return dydt"
      ],
      "metadata": {
        "id": "83wYmBx99R-6"
      },
      "execution_count": null,
      "outputs": []
    },
    {
      "cell_type": "code",
      "source": [
        "# Modelo discretizado (método de Euler) da planta a ser controlada \n",
        "\n",
        "def planta_discreta(y, u, Ts, N):\n",
        "    # parâmetros do modelo\n",
        "    Kp = 4.0\n",
        "    tau_p = 3.0\n",
        "    theta_p = 1.0\n",
        "\n",
        "    y[0] = 0.0\n",
        "\n",
        "    # Simulação\n",
        "    for n in range (N+1):\n",
        "        y[n + 1] = y[n] + (Ts/tau_p)*(4*u[n] - y[n])\n",
        "    \n",
        "    return y\n",
        " \n",
        "Ts = 0.1\n",
        "Tstop = 50\n",
        "N = int(Tstop/Ts) \n",
        "y = np.zeros(N + 2)\n",
        "u = np.ones(N + 2)\n",
        "\n",
        "t = np.arange (0, Tstop + 2*Ts, Ts ) #Cria a série temporal\n",
        "y = planta_discreta(y, u, Ts, N)\n",
        "\n",
        "plt.scatter(t, y)\n",
        "plt.title('Simulação do modelo discreto')\n",
        "plt.xlabel('n')\n",
        "plt.ylabel('y[n]')\n",
        "plt.grid()\n",
        "plt.axis([ 0 , Tstop , 0 , max(y) + .5 ])\n",
        "plt.show()"
      ],
      "metadata": {
        "id": "u1T3QVfO9TAz"
      },
      "execution_count": null,
      "outputs": []
    },
    {
      "cell_type": "code",
      "source": [
        "def pid(Kc,tauI,tauD):\n",
        "    t = np.linspace(0,tf,n) # vetor tempo\n",
        "    P = np.zeros(n) # incializa o termo proporcional\n",
        "    I = np.zeros(n) # inicializa o termo integrativo\n",
        "    D = np.zeros(n) # inicializa o termo derivativo\n",
        "    e = np.zeros(n) # inicializa o erro\n",
        "    U = np.zeros(n) # inicializa a saída do controlador\n",
        "    PV = np.zeros(n) # inicializa a variável do processo\n",
        "    SP = np.zeros(n) # inicializa o set point (referência)\n",
        "    SP_step = int(SP_start/(tf/(n-1))+1) \n",
        "    SP[0:SP_step] = 0.0 # define a referência inicial\n",
        "    SP[SP_step:n] = 4.0 # referência final\n",
        "    y0 = 0.0 # condição inicial\n",
        "\n",
        "    for i in range(1,n):\n",
        "        # simulação do processo\n",
        "        ts = [t[i - 1], t[i]] # intervalo de tempo\n",
        "        y = odeint(planta,y0,ts,args = (U[i - 1],)) # resolve numericamente a EDO\n",
        "        y0 = y[1] # armazena a nova condição inicial\n",
        "        # calcula o sinal de controle do PID a ser aplicado a planta\n",
        "        PV[i] = y[1] # armazena a variável do processo\n",
        "        e[i] = SP[i] - PV[i] # calcula o erro = SP - PV\n",
        "        dt = t[i] - t[i-1] # calcula o delta t\n",
        "        P[i] = Kc * e[i] # calcula o termo proporcional\n",
        "        I[i] = I[i-1] + (Kc/tauI) * e[i] * dt # calcula o termo integrativo\n",
        "        D[i] = -Kc * tauD * (PV[i]-PV[i-1])/dt # calcula o termo derivativo\n",
        "        U[i] = P[i] + I[i] + D[i] # Sinal de controle \n",
        "        \n",
        "    return t, e, SP, PV, U\n",
        "\n",
        "kc = 0.5\n",
        "tau_i = 1\n",
        "tau_d = 0.0\n",
        "[t, erro, r, y, u] = pid(kc,tau_i,tau_d)\n",
        "# plot PID response\n",
        "plt.figure(1,figsize=(15,7))\n",
        "plt.subplot(2,2,1)\n",
        "plt.plot(t,r,'k-',linewidth=2,label='Set point (SP)')\n",
        "plt.plot(t,y,'g--',linewidth=2,label='Variável do processo (PV)')\n",
        "plt.grid()\n",
        "plt.legend(loc='best')\n",
        "plt.subplot(2,2,2)\n",
        "plt.plot(t,erro,'r:',linewidth=2,label='Erro (e = SP - PV)')\n",
        "plt.grid()\n",
        "plt.legend(loc='best')\n",
        "plt.subplot(2,2,3)\n",
        "plt.plot(t,u,'b:',linewidth=2,label='Sinal de controle u(t)')\n",
        "plt.grid()\n",
        "plt.legend(loc='best')\n",
        "plt.xlabel('tempo')  \n",
        "plt.show()"
      ],
      "metadata": {
        "id": "gvFWZ2Ja9awR"
      },
      "execution_count": null,
      "outputs": []
    },
    {
      "cell_type": "code",
      "source": [
        "# Implementação do controlador fuzzy: Funções de pertinência, fuzzificação e defuzzificação\n",
        "\n",
        "def trimf(x, param):\n",
        "    \n",
        "def trapmf(x, param):\n",
        "    \n",
        "def gaussmf(x, param):\n",
        "    \n",
        "def gbellmf(x, param):\n",
        "    \n",
        "def fuzz(x0, y, mA_list, mB_list):\n",
        "    A0 = np.zeros(len(mA_list))\n",
        "    Bi = np.zeros([y.size, len(mA_list)])\n",
        "    out = np.zeros(y.size)\n",
        "    for i in range(len(mA_list)):\n",
        "        fA = mA_list[i][0]\n",
        "        param_A = mA_list[i][1]\n",
        "        A0[i] = fA(float(x0), param_A)\n",
        "        fB = mB_list[i][0]\n",
        "        param_B = mB_list[i][1]\n",
        "        for j in range(y.size):\n",
        "            Bi[j,i] = min(A0[i], fB(float(y[j]), param_B))\n",
        "            out[j] = max(Bi[j,:])\n",
        "    return(out)\n",
        "\n",
        "def defuzz(y, mf, option):\n",
        "    if option == 'centroid':\n",
        "        num = 0\n",
        "        den = 0\n",
        "        for i in range(y.size):\n",
        "            num = num + y[i]*mf[i]\n",
        "            den = den + mf[i]\n",
        "        y0 = num/den\n",
        "        return y0\n",
        "    \n",
        "    elif option == 'bisector':\n",
        "        area = 0\n",
        "        aux = 0\n",
        "        for i in range(y.size - 1):\n",
        "            area = area + (y[i+1] - y[i]) * ((mf[i+1] + mf[i])/2)\n",
        "        for i in range(y.size):\n",
        "            aux = aux + (y[i+1] - y[i]) * ((mf[i+1] + mf[i])/2)\n",
        "            if (aux >= area/2):\n",
        "                return y[i]\n",
        "        \n",
        "    elif option == 'MOM':\n",
        "        mf_max = max(mf)\n",
        "        acum = 0\n",
        "        n = 0\n",
        "        for i in range(y.size):\n",
        "            if (mf[i] == mf_max):\n",
        "                acum = acum + y[i]\n",
        "                n = n + 1\n",
        "        return acum/n\n",
        "              \n",
        "    else:\n",
        "        return -1\n",
        "    "
      ],
      "metadata": {
        "id": "tVkQJPvJCJWG"
      },
      "execution_count": null,
      "outputs": []
    },
    {
      "cell_type": "code",
      "source": [
        "# Definindo as variáveis linguísticas de entrada e saída\n",
        "\n",
        "# Universo de discurso\n",
        "erro = \n",
        "d_erro = \n",
        "\n",
        "Kc = \n",
        "tauI = \n",
        "tauD = \n",
        "\n",
        "# Funções de pertinência para o erro\n",
        "\n",
        "\n",
        "# Funções de pertinência para a variação do erro (Delta_erro)\n",
        "\n",
        "\n",
        "# Funções de pertinência para os parâmetros do controlador Out_Kp, Out_tauI, Out_tauD\n"
      ],
      "metadata": {
        "id": "FGaG_MOWCwVn"
      },
      "execution_count": null,
      "outputs": []
    },
    {
      "cell_type": "code",
      "source": [
        "# Gráfico das funções de pertinência para o erro e variação do erro\n"
      ],
      "metadata": {
        "id": "Q91WSLJ7D4CW"
      },
      "execution_count": null,
      "outputs": []
    }
  ]
}